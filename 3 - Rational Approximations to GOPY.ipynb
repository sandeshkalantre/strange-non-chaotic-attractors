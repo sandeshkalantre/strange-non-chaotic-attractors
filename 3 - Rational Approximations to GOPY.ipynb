{
 "cells": [
  {
   "cell_type": "markdown",
   "metadata": {},
   "source": [
    "# Rational Approximations to GOPY\n",
    "I will understand the bifurcations of the map,\n",
    "\n",
    "\\begin{align*}\n",
    "    x_{n+1} &= 2 a \\tanh(x_n) (b + \\cos(2\\pi\\theta_n)) \\\\\n",
    "    \\theta_{n+1} &= \\theta_n + w_k \\text{ mod 1} \\\\\n",
    "\\end{align*}\n",
    "\n",
    "where $w_k$ are rational approximations to the golden ratio."
   ]
  },
  {
   "cell_type": "code",
   "execution_count": 3,
   "metadata": {},
   "outputs": [],
   "source": [
    "import numpy as np\n",
    "import matplotlib.pyplot as plt\n",
    "%matplotlib inline\n",
    "from numba import jit, njit"
   ]
  },
  {
   "cell_type": "markdown",
   "metadata": {},
   "source": [
    "## Attractor plot with different initial conditions"
   ]
  },
  {
   "cell_type": "code",
   "execution_count": 4,
   "metadata": {},
   "outputs": [],
   "source": [
    "@njit\n",
    "def f(x,theta,a,b):\n",
    "    return 2*a*np.tanh(x)*(b + np.cos(2*np.pi*theta))"
   ]
  },
  {
   "cell_type": "code",
   "execution_count": 5,
   "metadata": {},
   "outputs": [],
   "source": [
    "@njit\n",
    "def iterate_f(x0,theta0,a,b,w_k,num_iter):\n",
    "    for ind in range(num_iter):\n",
    "        x_new = f(x0,theta0,a,b)\n",
    "        theta_new = (theta0 + w_k)  - np.int(theta0 + w_k)\n",
    "        x0,theta0 = x_new,theta_new\n",
    "    return [x_new,theta_new]"
   ]
  },
  {
   "cell_type": "code",
   "execution_count": 53,
   "metadata": {},
   "outputs": [],
   "source": [
    "a = 1\n",
    "b = 0\n",
    "p_k,q_k = 3,5\n",
    "w_k = p_k/q_k\n",
    "\n",
    "x_vec = np.linspace(-2,2,100) \n",
    "theta_vec = np.linspace(0,1/q_k,100) \n",
    "#theta_vec = np.linspace(0,1,500) \n",
    "\n",
    "num_iter = 50\n",
    "final_pts = []\n",
    "for theta0 in theta_vec:\n",
    "    for x0 in x_vec: \n",
    "        final_pt = iterate_f(x0,theta0,a,b,w_k,num_iter)\n",
    "        final_pts.append(final_pt)\n",
    "final_pts = np.array(final_pts)"
   ]
  },
  {
   "cell_type": "code",
   "execution_count": 52,
   "metadata": {},
   "outputs": [
    {
     "data": {
      "text/plain": [
       "Text(0, 0.5, '$x$')"
      ]
     },
     "execution_count": 52,
     "metadata": {},
     "output_type": "execute_result"
    },
    {
     "data": {
      "image/png": "[encoded data removed]",
      "text/plain": [
       "<Figure size 600x400 with 1 Axes>"
      ]
     },
     "metadata": {
      "needs_background": "light"
     },
     "output_type": "display_data"
    }
   ],
   "source": [
    "plt.figure(dpi=100)\n",
    "plt.scatter(final_pts[:,1],final_pts[:,0],s=1,color='crimson')\n",
    "plt.xlabel(r\"$\\theta$\")\n",
    "plt.ylabel(r\"$x$\")"
   ]
  }
 ],
 "metadata": {
  "kernelspec": {
   "display_name": "Python 3",
   "language": "python",
   "name": "python3"
  },
  "language_info": {
   "codemirror_mode": {
    "name": "ipython",
    "version": 3
   },
   "file_extension": ".py",
   "mimetype": "text/x-python",
   "name": "python",
   "nbconvert_exporter": "python",
   "pygments_lexer": "ipython3",
   "version": "3.8.2"
  }
 },
 "nbformat": 4,
 "nbformat_minor": 4
}
